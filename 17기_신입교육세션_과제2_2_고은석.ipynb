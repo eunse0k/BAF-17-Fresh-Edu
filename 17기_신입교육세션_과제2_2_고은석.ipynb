{
 "cells": [
  {
   "cell_type": "markdown",
   "id": "694d3e85",
   "metadata": {},
   "source": [
    "# 타이타닉 전처리\n"
   ]
  },
  {
   "cell_type": "markdown",
   "id": "206902b7",
   "metadata": {},
   "source": [
    "## 파일 불러오기\n"
   ]
  },
  {
   "cell_type": "code",
   "execution_count": null,
   "id": "4c59f9b0",
   "metadata": {},
   "outputs": [],
   "source": [
    "# 타이타닉 전처리"
   ]
  },
  {
   "cell_type": "code",
   "execution_count": 4,
   "id": "2553df09",
   "metadata": {},
   "outputs": [],
   "source": [
    "import numpy as np\n",
    "import pandas as pd\n",
    "import seaborn as sns\n"
   ]
  },
  {
   "cell_type": "code",
   "execution_count": 5,
   "id": "a8747989",
   "metadata": {},
   "outputs": [],
   "source": [
    "df = pd.read_csv(\"data/Titanic-Dataset.csv\")"
   ]
  },
  {
   "cell_type": "code",
   "execution_count": 7,
   "id": "07a0560a",
   "metadata": {},
   "outputs": [
    {
     "name": "stdout",
     "output_type": "stream",
     "text": [
      "<class 'pandas.core.frame.DataFrame'>\n",
      "RangeIndex: 891 entries, 0 to 890\n",
      "Data columns (total 12 columns):\n",
      " #   Column       Non-Null Count  Dtype  \n",
      "---  ------       --------------  -----  \n",
      " 0   PassengerId  891 non-null    int64  \n",
      " 1   Survived     891 non-null    int64  \n",
      " 2   Pclass       891 non-null    int64  \n",
      " 3   Name         891 non-null    object \n",
      " 4   Sex          891 non-null    object \n",
      " 5   Age          714 non-null    float64\n",
      " 6   SibSp        891 non-null    int64  \n",
      " 7   Parch        891 non-null    int64  \n",
      " 8   Ticket       891 non-null    object \n",
      " 9   Fare         891 non-null    float64\n",
      " 10  Cabin        204 non-null    object \n",
      " 11  Embarked     889 non-null    object \n",
      "dtypes: float64(2), int64(5), object(5)\n",
      "memory usage: 83.7+ KB\n"
     ]
    }
   ],
   "source": [
    "df.info()"
   ]
  },
  {
   "cell_type": "code",
   "execution_count": null,
   "id": "310945ce",
   "metadata": {},
   "outputs": [],
   "source": [
    "df['Age'].fillna(df['Age'].mean(), inplace = True) #해당 열의 평균값으로 대체"
   ]
  },
  {
   "cell_type": "code",
   "execution_count": 12,
   "id": "d2c89503",
   "metadata": {},
   "outputs": [],
   "source": [
    "df['Cabin'].fillna('N', inplace = True)"
   ]
  },
  {
   "cell_type": "code",
   "execution_count": 17,
   "id": "36f1456c",
   "metadata": {},
   "outputs": [],
   "source": [
    "df['Embarked'].fillna('N', inplace = True)\n"
   ]
  },
  {
   "cell_type": "code",
   "execution_count": 16,
   "id": "dce383da",
   "metadata": {},
   "outputs": [
    {
     "name": "stdout",
     "output_type": "stream",
     "text": [
      "Age null data count : 0\n",
      "Cabin null data count : 0\n",
      "Embarked null data count : 0\n"
     ]
    }
   ],
   "source": [
    "list_col = ['Age', 'Cabin', 'Embarked']\n",
    "for col in list_col:\n",
    "  print( col+' null data count :', df[col].isnull().sum())"
   ]
  },
  {
   "cell_type": "code",
   "execution_count": 18,
   "id": "280a92f5",
   "metadata": {},
   "outputs": [],
   "source": [
    "def transform_status(x):\n",
    "    if \"Mrs\" in x or \"Ms\" in x:\n",
    "        return \"Mrs\"\n",
    "    elif \"Mr\" in x:\n",
    "        return \"Mr\"\n",
    "    elif \"Miss\" in x:\n",
    "        return \"Miss\"\n",
    "    elif \"Master\" in x:\n",
    "        return \"Master\"\n",
    "    elif \"Dr\" in x:\n",
    "        return \"Dr\"\n",
    "    elif \"Rev\" in x:\n",
    "        return \"Rev\"\n",
    "    elif \"Col\" in x:\n",
    "        return \"Col\"\n",
    "    else:\n",
    "        return \"0\"\n",
    "\n",
    "df[\"social_status\"] = df[\"Name\"].map(transform_status)\n",
    "del df['Name']\n"
   ]
  },
  {
   "cell_type": "code",
   "execution_count": 19,
   "id": "d760c96d",
   "metadata": {},
   "outputs": [],
   "source": [
    "# Sex → 숫자 변환\n",
    "df['Sex'] = df['Sex'].map({\"male\": 0, \"female\": 1})"
   ]
  },
  {
   "cell_type": "code",
   "execution_count": 20,
   "id": "5d4f82be",
   "metadata": {},
   "outputs": [],
   "source": [
    "# Ticket 제거\n",
    "\n",
    "del df['Ticket']"
   ]
  },
  {
   "cell_type": "code",
   "execution_count": 21,
   "id": "b185f30a",
   "metadata": {},
   "outputs": [],
   "source": [
    "# Cabin → 선실 첫 글자만 추출\n",
    "\n",
    "df['Cabin'] = df['Cabin'].str[:1]"
   ]
  },
  {
   "cell_type": "code",
   "execution_count": 22,
   "id": "2cca449e",
   "metadata": {},
   "outputs": [],
   "source": [
    "# Fare 제거 (카테고리화 어려워서 제거)\n",
    "\n",
    "del df['Fare']"
   ]
  },
  {
   "cell_type": "code",
   "execution_count": 23,
   "id": "b6e66b24",
   "metadata": {},
   "outputs": [],
   "source": [
    "# Age → 연령대 카테고리화\n",
    "\n",
    "def get_category(age):\n",
    "    if age <= 5:\n",
    "        return 'Baby'\n",
    "    elif age <= 12:\n",
    "        return 'Child'\n",
    "    elif age <= 18:\n",
    "        return 'Teenager'\n",
    "    elif age <= 25:\n",
    "        return 'Student'\n",
    "    elif age <= 35:\n",
    "        return 'Young Adult'\n",
    "    elif age <= 60:\n",
    "        return 'Adult'\n",
    "    else:\n",
    "        return 'Elderly'\n",
    "\n",
    "df['Age_cat'] = df['Age'].apply(get_category)\n",
    "del df['Age']"
   ]
  },
  {
   "cell_type": "code",
   "execution_count": null,
   "id": "01fbc911",
   "metadata": {},
   "outputs": [],
   "source": []
  }
 ],
 "metadata": {
  "kernelspec": {
   "display_name": "base",
   "language": "python",
   "name": "python3"
  },
  "language_info": {
   "codemirror_mode": {
    "name": "ipython",
    "version": 3
   },
   "file_extension": ".py",
   "mimetype": "text/x-python",
   "name": "python",
   "nbconvert_exporter": "python",
   "pygments_lexer": "ipython3",
   "version": "3.11.7"
  }
 },
 "nbformat": 4,
 "nbformat_minor": 5
}
