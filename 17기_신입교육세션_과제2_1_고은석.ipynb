{
 "cells": [
  {
   "cell_type": "markdown",
   "id": "cce16b65",
   "metadata": {},
   "source": [
    "# 관심 있는 주제와 이유"
   ]
  },
  {
   "cell_type": "markdown",
   "id": "0f3b507c",
   "metadata": {},
   "source": [
    "1. **관심있는 주제**  \n",
    "   - 시장에서 거래되는 다양한 채권의 관측된 만기별 수익률(YTM) 데이터를 활용하여, 실제로 거래가 드문 중간 만기 구간에서도 합리적인 수익률 곡선을 머신러닝 기법으로 보간(interpolation)하는 연구"
   ]
  },
  {
   "cell_type": "markdown",
   "id": "ec1380fa",
   "metadata": {},
   "source": [
    "2. **이유**  \n",
    "   - 중간 만기 구간의 데이터 희소성 문제를 해결할 수 있음  \n",
    "   - 금리 스왑 및 금리 옵션 평가 모델 보정에 활용 가능  \n",
    "   - 예측 곡선의 스무딩 특성과 경제적 해석 가능성을 검토함으로써 실무 적용성을 확보할 수 있음  "
   ]
  },
  {
   "cell_type": "markdown",
   "id": "5df2a096",
   "metadata": {},
   "source": [
    "3. **링크** \n",
    "- https://www.data.go.kr/data/15059592/openapi.do"
   ]
  }
 ],
 "metadata": {
  "language_info": {
   "name": "python"
  }
 },
 "nbformat": 4,
 "nbformat_minor": 5
}
