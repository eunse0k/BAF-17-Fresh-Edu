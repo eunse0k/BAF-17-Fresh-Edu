{
 "cells": [
  {
   "cell_type": "markdown",
   "metadata": {},
   "source": [
    "# 4주차_실습과제"
   ]
  },
  {
   "cell_type": "markdown",
   "metadata": {},
   "source": [
    "## (1) 이론\n",
    "- 지난 세션시간까지 배운 데이터 분석 개념 점검을 위한 객관식/단답형 문제입니다.\n",
    "- 코드셀에 정답을 적어주시면 됩니다."
   ]
  },
  {
   "cell_type": "markdown",
   "metadata": {},
   "source": [
    "#### 1. EDA(탐색적 데이터 분석, Exploratory Data Analysis)의 목적은?\n",
    "① 데이터를 정제하는 것<br>\n",
    "② 데이터를 시각화하고 특징을 파악하는 것<br>\n",
    "③ 모델을 학습시키는 것<br>\n",
    "④ 데이터를 수집하는 것<br>"
   ]
  },
  {
   "cell_type": "markdown",
   "metadata": {},
   "source": [
    "정답: ② 데이터를 시각화하고 특징을 파악하는 것<br>"
   ]
  },
  {
   "cell_type": "markdown",
   "metadata": {},
   "source": [
    "#### 2. 다음 중 범주형 데이터를 수치형 데이터로 변환하는 방법이 아닌 것은?\n",
    "① Label Encoding<br>\n",
    "② One-Hot Encoding<br>\n",
    "③ Min-Max Scaling<br>\n",
    "④ Ordinal Encoding<br>"
   ]
  },
  {
   "cell_type": "markdown",
   "metadata": {},
   "source": [
    "정답: ③ Min–Max Scaling"
   ]
  },
  {
   "cell_type": "markdown",
   "metadata": {},
   "source": [
    "#### 3. 회귀 분석에서 사용하는 평가 지표로 적절하지 않은 것은?\n",
    "① RMSE (Root Mean Squared Error)<br>\n",
    "② R-squared<br>\n",
    "③ AUC-ROC<br>\n",
    "④ MAE (Mean Absolute Error)<br>"
   ]
  },
  {
   "cell_type": "markdown",
   "metadata": {},
   "source": [
    "정답: ③ AUC-ROC"
   ]
  },
  {
   "cell_type": "markdown",
   "metadata": {},
   "source": [
    "#### 4. 비지도 학습에 해당하는 알고리즘을 모두 고르시오.\n",
    "① K-Means<br>\n",
    "② PCA<br>\n",
    "③ Random Forest<br>\n",
    "④ DBSCAN<br>"
   ]
  },
  {
   "cell_type": "markdown",
   "metadata": {},
   "source": [
    "정답: ① K-Means, ② PCA, ④ DBSCAN"
   ]
  },
  {
   "cell_type": "markdown",
   "metadata": {},
   "source": [
    "#### 5. 분류 모델의 성능을 평가할 때 Precision과 Recall의 차이점은?\n",
    "\n",
    "Precision이 중요한 상황과 Recall이 중요한 상황을 각각 적어주세요."
   ]
  },
  {
   "cell_type": "markdown",
   "metadata": {},
   "source": [
    "정답: \n",
    "- Precision(정밀도)\n",
    "\n",
    "  - 양성으로 예측한 것 중 실제 양성 비율 = TP / (TP + FP) \n",
    "\n",
    "  - 오탐(FP)을 줄이는 것이 중요한 경우(예: 스팸 필터링에서 정상 메일이 스팸으로 잘못 분류되면 안 될 때)\n",
    "\n",
    "- Recall(재현율)\n",
    "\n",
    "  -  양성 중 모델이 양성으로 잡아낸 비율 = TP / (TP + FN)\n",
    "\n",
    "  - 미탐(FN)을 줄이는 것이 중요한 경우(예: 질병 진단에서 병을 놓치면 안 될 때)\n",
    "\n",
    "TP: 양성이라고 예측한 샘플 중 실제로도 양성, FP: 양성이라고 예측했으나 실제로는 음성, FN: 음성이라고 예측했으나 실제로는 양성"
   ]
  },
  {
   "cell_type": "markdown",
   "metadata": {},
   "source": [
    "#### 6. 결측치 처리 방법에는 여러 가지가 있습니다. 아래와 같은 상황에서는 어떤 결측치 처리 방법이 가장 적절한가요?\n",
    "\n",
    "- 데이터에서 일부 숫자형 변수의 결측치 비율이 40% 이상이다.\n",
    "- 데이터를 분석해보니 결측값이 특정한 패턴 없이 무작위로 발생했다."
   ]
  },
  {
   "cell_type": "markdown",
   "metadata": {},
   "source": [
    "정답: 해당 변수를 분석에서 제외(drop)하거나, 경우에 따라 결측 자체를 하나의 범주로 처리(drop 변수 권장), \n",
    "결측 비율이 너무 높으면 왜곡 우려가 크므로 삭제"
   ]
  },
  {
   "cell_type": "markdown",
   "metadata": {},
   "source": [
    "#### 7. K-means 알고리즘의 단점 중 아래와 같은 상황에서 어떤 방법을 적용할 수 있을까요?\n",
    "\n",
    "거리 기반 알고리즘으로 속성(피쳐)의 개수가 많은 경우 정확도가 떨어졌다."
   ]
  },
  {
   "cell_type": "markdown",
   "metadata": {},
   "source": [
    "정답: \n",
    "- 차원 축소(PCA)로 주요 성분만 사용\n",
    "\n",
    "- 주요 변수(feature selection)만 남기고 불필요 변수 제거\n",
    "\n",
    "- 거리 측정이 아닌 밀도 기반(DBSCAN) 사용"
   ]
  },
  {
   "cell_type": "markdown",
   "metadata": {},
   "source": [
    "#### 8. 앙상블 학습(Ensemble Learning) 방법 중 Bagging과 Boosting의 차이점\n",
    "\n",
    "각각 대표적인 알고리즘을 하나씩 제시해주세요."
   ]
  },
  {
   "cell_type": "markdown",
   "metadata": {},
   "source": [
    "정답: \n",
    "- Bagging(병렬 학습)\n",
    "\n",
    "  - 여러 개의 약한 학습기(주로 Decision Tree)를 독립적으로 학습 후 평균/투표로 결합\n",
    "\n",
    "  - 대표 알고리즘: Random Forest\n",
    "\n",
    "- Boosting(순차 학습)\n",
    "\n",
    "  - 이전 모델이 틀린 샘플에 가중치를 높여 가며 순차적으로 학습기를 추가\n",
    "\n",
    "  - 대표 알고리즘: XGBoost"
   ]
  },
  {
   "cell_type": "markdown",
   "metadata": {},
   "source": [
    "#### 9. 다중공선성이란 무엇이며, 다중공선성이 심할 경우 해결 방법은 무엇인가요?\n",
    "\n"
   ]
  },
  {
   "cell_type": "markdown",
   "metadata": {},
   "source": [
    "- 정의: 설명 변수들 간에 강한 상관관계가 있어 회귀계수 추정이 불안정해지는 현상\n",
    "\n",
    "- 해결 방법:\n",
    "\n",
    "  - 상관 높은 변수 제거 또는 결합\n",
    "\n",
    "  - 주성분 회귀(PCR) 등 차원 축소\n",
    "\n",
    "  - 릿지(Ridge)·라쏘(Lasso) 등 규제 회귀 사용"
   ]
  },
  {
   "cell_type": "markdown",
   "metadata": {},
   "source": [
    "#### 10. 머신러닝 모델의 과적합(Overfitting)을 방지하기 위한 방법을 2가지 이상 적어주세요."
   ]
  },
  {
   "cell_type": "markdown",
   "metadata": {},
   "source": [
    "정답: \n",
    "- 교차검증\n",
    "\n",
    "- 정규화 – L1/L2 패널티\n",
    "\n",
    "- 학습 데이터 양 증가"
   ]
  },
  {
   "cell_type": "markdown",
   "metadata": {},
   "source": [
    "## (2) 고객 이탈 예측 실습  \n",
    "\n",
    "### 목표  \n",
    "- 고객의 이탈 여부(`Churn`)를 예측하는 모델을 구축하세요.  \n",
    "- **train, test 데이터에 동일한 전처리를 적용**한 후, 최종 모델을 `customer_churn_test.csv`에 적용하여 결과를 `test.csv`로 저장하세요.  \n",
    "\n",
    "### 실습 가이드  \n",
    "1. **데이터**  \n",
    "   - `customer_churn_train.csv` (훈련 데이터)  \n",
    "   - `customer_churn_test.csv` (테스트 데이터)  \n",
    "\n",
    "2. **분석 과정**  \n",
    "   - **데이터 탐색(EDA)** : 데이터의 전반적인 특성과 분포를 확인하세요.  \n",
    "   - **데이터 전처리** : 결측치 및 이상치를 필수적으로 처리하세요.  \n",
    "   - **모델링** : 적절한 모델을 선택하여 학습시키세요.  \n",
    "\n",
    "3. **요구사항**  \n",
    "   - **결측치와 이상치 처리 필수!**  \n",
    "   - **train과 test 데이터에 동일한 전처리 적용!**  \n",
    "   - **선택한 모델에 대한 이유 설명 (주석 또는 마크다운 활용)**  \n",
    "   - **주석과 마크다운을 적극 활용하여 코드 가독성을 높이기!**  \n",
    "\n",
    "📢 **최종 결과물**  \n",
    "- `customer_churn_test.csv`에 대해 예측을 수행한 결과를 `test.csv`로 저장하세요.  \n",
    "- 코드와 `test.csv`을 레포지토리에 업로드해주세요.  \n"
   ]
  },
  {
   "cell_type": "markdown",
   "metadata": {},
   "source": [
    "### 데이터 컬럼 설명  \n",
    "\n",
    "| **컬럼명**           | **설명**                                  |  \n",
    "|--------------------|--------------------------------|  \n",
    "| `CustomerID`      | 고객 고유 ID                    |  \n",
    "| `Age`             | 고객 연령                           |  \n",
    "| `Gender`          | 성별 (`Male`, `Female`)          |  \n",
    "| `Tenure`          | 가입 기간 (개월)                  |  \n",
    "| `Usage Frequency` | 월별 평균 사용 횟수              |  \n",
    "| `Support Calls`   | 고객센터 문의 횟수               |  \n",
    "| `Payment Delay`   | 연체 발생 횟수                   |  \n",
    "| `Subscription Type` | 가입 요금제 (`Basic`, `Standard`, `Premium`) |  \n",
    "| `Contract Length` | 계약 기간 (`Month-to-Month`, `One Year`, `Two Year`) |  \n",
    "| `Total Spend`     | 총 지출 금액                      |  \n",
    "| `Last Interaction` | 마지막 서비스 이용 후 지난 일수  |  \n",
    "| `Churn`           | 고객 이탈 여부 (`1 = 이탈`, `0 = 유지`) |  \n",
    "\n",
    "- **타겟 변수(Target Variable):** `Churn`  \n",
    "- **범주형 변수(Categorical Features):** `Gender`, `Subscription Type`, `Contract Length`  \n",
    "- **수치형 변수(Numerical Features):** `Age`, `Tenure`, `Usage Frequency`, `Support Calls`, `Payment Delay`, `Total Spend`, `Last Interaction`  \n"
   ]
  },
  {
   "cell_type": "code",
   "execution_count": null,
   "metadata": {},
   "outputs": [],
   "source": []
  }
 ],
 "metadata": {
  "kernelspec": {
   "display_name": "base",
   "language": "python",
   "name": "python3"
  },
  "language_info": {
   "codemirror_mode": {
    "name": "ipython",
    "version": 3
   },
   "file_extension": ".py",
   "mimetype": "text/x-python",
   "name": "python",
   "nbconvert_exporter": "python",
   "pygments_lexer": "ipython3",
   "version": "3.11.7"
  }
 },
 "nbformat": 4,
 "nbformat_minor": 4
}
