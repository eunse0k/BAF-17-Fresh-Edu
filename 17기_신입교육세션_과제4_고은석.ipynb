{
 "cells": [
  {
   "cell_type": "markdown",
   "id": "00d0b037",
   "metadata": {},
   "source": [
    "# train"
   ]
  },
  {
   "cell_type": "markdown",
   "id": "011d7be5",
   "metadata": {},
   "source": [
    "## 1. 패키지, 데이터 불러오기"
   ]
  },
  {
   "cell_type": "code",
   "execution_count": 53,
   "id": "d6551b39",
   "metadata": {},
   "outputs": [],
   "source": [
    "import pandas as pd\n",
    "import numpy as np\n",
    "from sklearn.linear_model import (\n",
    "    LinearRegression, Ridge, Lasso, ElasticNet\n",
    ")\n",
    "from sklearn.feature_selection import SelectKBest, f_regression\n",
    "from sklearn.metrics import mean_squared_error, r2_score\n",
    "from sklearn.preprocessing import PolynomialFeatures\n"
   ]
  },
  {
   "cell_type": "code",
   "execution_count": 54,
   "id": "20c99e5b",
   "metadata": {},
   "outputs": [],
   "source": [
    "df = pd.read_csv('C:/Users/eunseok/Desktop/vscode/data/train.csv')"
   ]
  },
  {
   "cell_type": "markdown",
   "id": "2c3ab5be",
   "metadata": {},
   "source": [
    "## 2. EDA"
   ]
  },
  {
   "cell_type": "markdown",
   "id": "2caedea9",
   "metadata": {},
   "source": [
    "### 1. 전반적으로 확인"
   ]
  },
  {
   "cell_type": "code",
   "execution_count": 55,
   "id": "ae3129d5",
   "metadata": {},
   "outputs": [
    {
     "name": "stdout",
     "output_type": "stream",
     "text": [
      "         Date  Rented Bike Count  Hour  Temperature(째C)  Humidity(%)  \\\n",
      "0  01/12/2017                254     0             -5.2           37   \n",
      "1  01/12/2017                204     1             -5.5           38   \n",
      "2  01/12/2017                173     2             -6.0           39   \n",
      "3  01/12/2017                107     3             -6.2           40   \n",
      "4  01/12/2017                 78     4             -6.0           36   \n",
      "\n",
      "   Wind speed (m/s)  Visibility (10m)  Dew point temperature(째C)  \\\n",
      "0               2.2              2000                      -17.6   \n",
      "1               0.8              2000                      -17.6   \n",
      "2               1.0              2000                      -17.7   \n",
      "3               0.9              2000                      -17.6   \n",
      "4               NaN              2000                      -18.6   \n",
      "\n",
      "   Solar Radiation (MJ/m2)  Rainfall(mm)  Snowfall (cm) Seasons     Holiday  \\\n",
      "0                      0.0           0.0            0.0     NaN  No Holiday   \n",
      "1                      0.0           0.0            0.0  Winter  No Holiday   \n",
      "2                      0.0           0.0            0.0  Winter  No Holiday   \n",
      "3                      0.0           0.0            0.0  Winter  No Holiday   \n",
      "4                      0.0           0.0            0.0  Winter  No Holiday   \n",
      "\n",
      "  Functioning Day  \n",
      "0             Yes  \n",
      "1             Yes  \n",
      "2             Yes  \n",
      "3             Yes  \n",
      "4             Yes  \n"
     ]
    }
   ],
   "source": [
    "print(df.head())\n"
   ]
  },
  {
   "cell_type": "code",
   "execution_count": 56,
   "id": "406e1eaa",
   "metadata": {},
   "outputs": [
    {
     "name": "stdout",
     "output_type": "stream",
     "text": [
      "<class 'pandas.core.frame.DataFrame'>\n",
      "RangeIndex: 8040 entries, 0 to 8039\n",
      "Data columns (total 14 columns):\n",
      " #   Column                     Non-Null Count  Dtype  \n",
      "---  ------                     --------------  -----  \n",
      " 0   Date                       8040 non-null   object \n",
      " 1   Rented Bike Count          8040 non-null   int64  \n",
      " 2   Hour                       8040 non-null   int64  \n",
      " 3   Temperature(째C)            7240 non-null   float64\n",
      " 4   Humidity(%)                8040 non-null   int64  \n",
      " 5   Wind speed (m/s)           7238 non-null   float64\n",
      " 6   Visibility (10m)           8040 non-null   int64  \n",
      " 7   Dew point temperature(째C)  8040 non-null   float64\n",
      " 8   Solar Radiation (MJ/m2)    8040 non-null   float64\n",
      " 9   Rainfall(mm)               8040 non-null   float64\n",
      " 10  Snowfall (cm)              8040 non-null   float64\n",
      " 11  Seasons                    7238 non-null   object \n",
      " 12  Holiday                    8040 non-null   object \n",
      " 13  Functioning Day            8040 non-null   object \n",
      "dtypes: float64(6), int64(4), object(4)\n",
      "memory usage: 879.5+ KB\n",
      "None\n"
     ]
    }
   ],
   "source": [
    "print(df.info())\n"
   ]
  },
  {
   "cell_type": "code",
   "execution_count": 57,
   "id": "64cd23ac",
   "metadata": {},
   "outputs": [
    {
     "name": "stdout",
     "output_type": "stream",
     "text": [
      "              Date  Rented Bike Count         Hour  Temperature(째C)  \\\n",
      "count         8040        8040.000000  8040.000000      7240.000000   \n",
      "unique         335                NaN          NaN              NaN   \n",
      "top     01/12/2017                NaN          NaN              NaN   \n",
      "freq            24                NaN          NaN              NaN   \n",
      "mean           NaN         709.775995    11.500000        13.498564   \n",
      "std            NaN         657.320605     6.922617        12.270471   \n",
      "min            NaN           0.000000     0.000000       -17.800000   \n",
      "25%            NaN         191.000000     5.750000         3.500000   \n",
      "50%            NaN         485.000000    11.500000        15.600000   \n",
      "75%            NaN        1080.500000    17.250000        23.300000   \n",
      "max            NaN        3556.000000    23.000000        39.400000   \n",
      "\n",
      "        Humidity(%)  Wind speed (m/s)  Visibility (10m)  \\\n",
      "count   8040.000000       7238.000000       8040.000000   \n",
      "unique          NaN               NaN               NaN   \n",
      "top             NaN               NaN               NaN   \n",
      "freq            NaN               NaN               NaN   \n",
      "mean      58.271020          1.756756       1459.170896   \n",
      "std       20.340492          1.045901        603.716284   \n",
      "min        0.000000          0.000000         27.000000   \n",
      "25%       43.000000          1.000000        977.000000   \n",
      "50%       57.000000          1.600000       1741.000000   \n",
      "75%       74.000000          2.400000       2000.000000   \n",
      "max       98.000000          7.400000       2000.000000   \n",
      "\n",
      "        Dew point temperature(째C)  Solar Radiation (MJ/m2)  Rainfall(mm)  \\\n",
      "count                 8040.000000              8040.000000   8040.000000   \n",
      "unique                        NaN                      NaN           NaN   \n",
      "top                           NaN                      NaN           NaN   \n",
      "freq                          NaN                      NaN           NaN   \n",
      "mean                     4.522239                 0.587072      0.152164   \n",
      "std                     13.393517                 0.886186      1.127026   \n",
      "min                    -30.600000                 0.000000      0.000000   \n",
      "25%                     -4.600000                 0.000000      0.000000   \n",
      "50%                      6.400000                 0.020000      0.000000   \n",
      "75%                     15.600000                 0.960000      0.000000   \n",
      "max                     27.200000                 3.520000     35.000000   \n",
      "\n",
      "        Snowfall (cm) Seasons     Holiday Functioning Day  \n",
      "count     8040.000000    7238        8040            8040  \n",
      "unique            NaN       4           2               2  \n",
      "top               NaN  Spring  No Holiday             Yes  \n",
      "freq              NaN    1990        7608            7817  \n",
      "mean         0.066493     NaN         NaN             NaN  \n",
      "std          0.378182     NaN         NaN             NaN  \n",
      "min          0.000000     NaN         NaN             NaN  \n",
      "25%          0.000000     NaN         NaN             NaN  \n",
      "50%          0.000000     NaN         NaN             NaN  \n",
      "75%          0.000000     NaN         NaN             NaN  \n",
      "max          5.100000     NaN         NaN             NaN  \n"
     ]
    }
   ],
   "source": [
    "print(df.describe(include=\"all\"))"
   ]
  },
  {
   "cell_type": "markdown",
   "id": "47422ebc",
   "metadata": {},
   "source": [
    "### 2. 결측치 확인"
   ]
  },
  {
   "cell_type": "markdown",
   "id": "3a57b496",
   "metadata": {},
   "source": [
    "- column별 결측치 합"
   ]
  },
  {
   "cell_type": "code",
   "execution_count": 58,
   "id": "1e0e560a",
   "metadata": {},
   "outputs": [
    {
     "name": "stdout",
     "output_type": "stream",
     "text": [
      "Date                           0\n",
      "Rented Bike Count              0\n",
      "Hour                           0\n",
      "Temperature(째C)              800\n",
      "Humidity(%)                    0\n",
      "Wind speed (m/s)             802\n",
      "Visibility (10m)               0\n",
      "Dew point temperature(째C)      0\n",
      "Solar Radiation (MJ/m2)        0\n",
      "Rainfall(mm)                   0\n",
      "Snowfall (cm)                  0\n",
      "Seasons                      802\n",
      "Holiday                        0\n",
      "Functioning Day                0\n",
      "dtype: int64\n"
     ]
    }
   ],
   "source": [
    "print(df.isna().sum())"
   ]
  },
  {
   "cell_type": "markdown",
   "id": "def470ae",
   "metadata": {},
   "source": [
    "- row별 결측치 개수"
   ]
  },
  {
   "cell_type": "code",
   "execution_count": 59,
   "id": "2f1211f6",
   "metadata": {},
   "outputs": [
    {
     "name": "stdout",
     "output_type": "stream",
     "text": [
      "0    5851\n",
      "1    1983\n",
      "2     197\n",
      "3       9\n",
      "Name: count, dtype: int64\n"
     ]
    }
   ],
   "source": [
    "print(df.isna().sum(axis=1).value_counts())"
   ]
  },
  {
   "cell_type": "markdown",
   "id": "68ac2453",
   "metadata": {},
   "source": [
    "#### 1. Wind speed (m/s) 결측치 처리"
   ]
  },
  {
   "cell_type": "markdown",
   "id": "a11df6c1",
   "metadata": {},
   "source": [
    "- 다른 요인과 독립적이라고 생각하고 그냥 전체평균으로 대체"
   ]
  },
  {
   "cell_type": "code",
   "execution_count": 60,
   "id": "22552c76",
   "metadata": {},
   "outputs": [],
   "source": [
    "global_wind_mean = df[\"Wind speed (m/s)\"].mean(skipna=True)\n",
    "df[\"Wind speed (m/s)\"].fillna(global_wind_mean, inplace=True)"
   ]
  },
  {
   "cell_type": "markdown",
   "id": "9d458bd5",
   "metadata": {},
   "source": [
    "- 확인"
   ]
  },
  {
   "cell_type": "code",
   "execution_count": 61,
   "id": "9b6d69e7",
   "metadata": {},
   "outputs": [
    {
     "name": "stdout",
     "output_type": "stream",
     "text": [
      "0\n"
     ]
    }
   ],
   "source": [
    "print(df[\"Wind speed (m/s)\"].isna().sum())"
   ]
  },
  {
   "cell_type": "markdown",
   "id": "165bb339",
   "metadata": {},
   "source": [
    "#### 2. Seasons 결측치 처리"
   ]
  },
  {
   "cell_type": "markdown",
   "id": "a8c065ad",
   "metadata": {},
   "source": [
    "- 계절 매핑 함수(date 이용)"
   ]
  },
  {
   "cell_type": "code",
   "execution_count": 62,
   "id": "9bf1e77c",
   "metadata": {},
   "outputs": [],
   "source": [
    "def month_to_season(month: int) -> str:\n",
    "    if month in (3, 4, 5):\n",
    "        return \"Spring\"\n",
    "    elif month in (6, 7, 8):\n",
    "        return \"Summer\"\n",
    "    elif month in (9, 10, 11):\n",
    "        return \"Autumn\"\n",
    "    else:\n",
    "        return \"Winter\""
   ]
  },
  {
   "cell_type": "markdown",
   "id": "52546b31",
   "metadata": {},
   "source": [
    "- 계절로 변경"
   ]
  },
  {
   "cell_type": "code",
   "execution_count": 63,
   "id": "164f956d",
   "metadata": {},
   "outputs": [],
   "source": [
    "df[\"Date\"] = pd.to_datetime(df[\"Date\"], format=\"%d/%m/%Y\")"
   ]
  },
  {
   "cell_type": "code",
   "execution_count": 64,
   "id": "f320ff54",
   "metadata": {},
   "outputs": [],
   "source": [
    "df[\"Seasons\"] = df[\"Date\"].dt.month.apply(month_to_season)"
   ]
  },
  {
   "cell_type": "markdown",
   "id": "e30a879b",
   "metadata": {},
   "source": [
    "- 바뀌었는지 확인"
   ]
  },
  {
   "cell_type": "code",
   "execution_count": 65,
   "id": "b3b76574",
   "metadata": {},
   "outputs": [
    {
     "name": "stdout",
     "output_type": "stream",
     "text": [
      "0\n"
     ]
    }
   ],
   "source": [
    "print(df[\"Seasons\"].isna().sum())"
   ]
  },
  {
   "cell_type": "markdown",
   "id": "784e67f7",
   "metadata": {},
   "source": [
    "#### 3. Temperature(째C) 결측치 처리"
   ]
  },
  {
   "cell_type": "markdown",
   "id": "7c96dd74",
   "metadata": {},
   "source": [
    "- 계절별로 온도가 다른거 확인"
   ]
  },
  {
   "cell_type": "code",
   "execution_count": 66,
   "id": "62a3ce9a",
   "metadata": {},
   "outputs": [
    {
     "data": {
      "text/plain": [
       "Seasons\n",
       "Autumn    17.274578\n",
       "Spring    13.147726\n",
       "Summer    26.610258\n",
       "Winter    -2.485670\n",
       "Name: Temperature(째C), dtype: float64"
      ]
     },
     "execution_count": 66,
     "metadata": {},
     "output_type": "execute_result"
    }
   ],
   "source": [
    "season_temp_means = df.groupby(\"Seasons\")[\"Temperature(째C)\"].mean()\n",
    "season_temp_means"
   ]
  },
  {
   "cell_type": "markdown",
   "id": "dd13ad29",
   "metadata": {},
   "source": [
    "- 계절별 온도로 대체"
   ]
  },
  {
   "cell_type": "code",
   "execution_count": 67,
   "id": "f532a0bb",
   "metadata": {},
   "outputs": [],
   "source": [
    "df[\"Temperature(째C)\"] = df.apply(\n",
    "    lambda row: season_temp_means[row[\"Seasons\"]]\n",
    "                if pd.isna(row[\"Temperature(째C)\"])\n",
    "                else row[\"Temperature(째C)\"],\n",
    "    axis=1\n",
    ")"
   ]
  },
  {
   "cell_type": "markdown",
   "id": "78a579d6",
   "metadata": {},
   "source": [
    "- 확인"
   ]
  },
  {
   "cell_type": "code",
   "execution_count": 68,
   "id": "b9c88ffa",
   "metadata": {},
   "outputs": [
    {
     "name": "stdout",
     "output_type": "stream",
     "text": [
      "0\n"
     ]
    }
   ],
   "source": [
    "print(df[\"Temperature(째C)\"].isna().sum())"
   ]
  },
  {
   "cell_type": "markdown",
   "id": "91940458",
   "metadata": {},
   "source": [
    "#### 4. 확인"
   ]
  },
  {
   "cell_type": "code",
   "execution_count": 69,
   "id": "6c1a6d6b",
   "metadata": {},
   "outputs": [
    {
     "name": "stdout",
     "output_type": "stream",
     "text": [
      "Date                         0\n",
      "Rented Bike Count            0\n",
      "Hour                         0\n",
      "Temperature(째C)              0\n",
      "Humidity(%)                  0\n",
      "Wind speed (m/s)             0\n",
      "Visibility (10m)             0\n",
      "Dew point temperature(째C)    0\n",
      "Solar Radiation (MJ/m2)      0\n",
      "Rainfall(mm)                 0\n",
      "Snowfall (cm)                0\n",
      "Seasons                      0\n",
      "Holiday                      0\n",
      "Functioning Day              0\n",
      "dtype: int64\n"
     ]
    }
   ],
   "source": [
    "print(df.isna().sum())"
   ]
  },
  {
   "cell_type": "code",
   "execution_count": 70,
   "id": "a0f839ec",
   "metadata": {},
   "outputs": [
    {
     "name": "stdout",
     "output_type": "stream",
     "text": [
      "0    8040\n",
      "Name: count, dtype: int64\n"
     ]
    }
   ],
   "source": [
    "print(df.isna().sum(axis=1).value_counts())"
   ]
  },
  {
   "cell_type": "markdown",
   "id": "01c6dfa2",
   "metadata": {},
   "source": [
    "- 결측치 없는걸 확인"
   ]
  },
  {
   "cell_type": "markdown",
   "id": "a8d1e2ae",
   "metadata": {},
   "source": [
    "### 3. 범주형 변수 변환"
   ]
  },
  {
   "cell_type": "code",
   "execution_count": 71,
   "id": "b30b7dbf",
   "metadata": {},
   "outputs": [],
   "source": [
    "for col in [\"Seasons\", \"Holiday\", \"Functioning Day\"]:\n",
    "    df[col] = df[col].astype(\"category\")\n"
   ]
  },
  {
   "cell_type": "code",
   "execution_count": 72,
   "id": "7f7742df",
   "metadata": {},
   "outputs": [
    {
     "name": "stdout",
     "output_type": "stream",
     "text": [
      "       Seasons     Holiday Functioning Day\n",
      "count     8040        8040            8040\n",
      "unique       4           2               2\n",
      "top     Spring  No Holiday             Yes\n",
      "freq      2208        7608            7817\n"
     ]
    }
   ],
   "source": [
    "print(df[[\"Seasons\",\"Holiday\",\"Functioning Day\"]].describe())"
   ]
  },
  {
   "cell_type": "markdown",
   "id": "8cba48ae",
   "metadata": {},
   "source": [
    "- 더미변수화"
   ]
  },
  {
   "cell_type": "code",
   "execution_count": 73,
   "id": "bea78605",
   "metadata": {},
   "outputs": [],
   "source": [
    "df = pd.get_dummies(df,\n",
    "                        columns=[\"Seasons\",\"Holiday\",\"Functioning Day\"],\n",
    "                        drop_first=True)"
   ]
  },
  {
   "cell_type": "code",
   "execution_count": 74,
   "id": "6a1e3e9b",
   "metadata": {},
   "outputs": [
    {
     "name": "stdout",
     "output_type": "stream",
     "text": [
      "<class 'pandas.core.frame.DataFrame'>\n",
      "RangeIndex: 8040 entries, 0 to 8039\n",
      "Data columns (total 16 columns):\n",
      " #   Column                     Non-Null Count  Dtype         \n",
      "---  ------                     --------------  -----         \n",
      " 0   Date                       8040 non-null   datetime64[ns]\n",
      " 1   Rented Bike Count          8040 non-null   int64         \n",
      " 2   Hour                       8040 non-null   int64         \n",
      " 3   Temperature(째C)            8040 non-null   float64       \n",
      " 4   Humidity(%)                8040 non-null   int64         \n",
      " 5   Wind speed (m/s)           8040 non-null   float64       \n",
      " 6   Visibility (10m)           8040 non-null   int64         \n",
      " 7   Dew point temperature(째C)  8040 non-null   float64       \n",
      " 8   Solar Radiation (MJ/m2)    8040 non-null   float64       \n",
      " 9   Rainfall(mm)               8040 non-null   float64       \n",
      " 10  Snowfall (cm)              8040 non-null   float64       \n",
      " 11  Seasons_Spring             8040 non-null   bool          \n",
      " 12  Seasons_Summer             8040 non-null   bool          \n",
      " 13  Seasons_Winter             8040 non-null   bool          \n",
      " 14  Holiday_No Holiday         8040 non-null   bool          \n",
      " 15  Functioning Day_Yes        8040 non-null   bool          \n",
      "dtypes: bool(5), datetime64[ns](1), float64(6), int64(4)\n",
      "memory usage: 730.3 KB\n",
      "None\n"
     ]
    }
   ],
   "source": [
    "print(df.info())"
   ]
  },
  {
   "cell_type": "markdown",
   "id": "4ead4bfc",
   "metadata": {},
   "source": [
    "## 3. 회귀분석"
   ]
  },
  {
   "cell_type": "code",
   "execution_count": 75,
   "id": "5d881d40",
   "metadata": {},
   "outputs": [],
   "source": [
    "X = df.drop(columns=[\"Date\", \"Rented Bike Count\"])\n",
    "y = df[\"Rented Bike Count\"]"
   ]
  },
  {
   "cell_type": "markdown",
   "id": "630e6e24",
   "metadata": {},
   "source": [
    "#### multilinear"
   ]
  },
  {
   "cell_type": "code",
   "execution_count": 76,
   "id": "02a434fd",
   "metadata": {},
   "outputs": [],
   "source": [
    "selector_lin = SelectKBest(score_func=f_regression, k=\"all\")\n",
    "selector_lin.fit(X, y)\n",
    "f_scores_lin = pd.Series(selector_lin.scores_, index=X.columns) \\\n",
    "                 .sort_values(ascending=False)"
   ]
  },
  {
   "cell_type": "code",
   "execution_count": 77,
   "id": "d6e1a89f",
   "metadata": {},
   "outputs": [],
   "source": [
    "n = len(y)           \n",
    "p = X.shape[1]"
   ]
  },
  {
   "cell_type": "code",
   "execution_count": 78,
   "id": "d6ea4d20",
   "metadata": {},
   "outputs": [],
   "source": [
    "lin_results = []\n",
    "for K in range(1, len(X.columns) + 1):\n",
    "    topK = f_scores_lin.index[:K]\n",
    "    Xk   = X[topK]\n",
    "    model = LinearRegression().fit(Xk, y)\n",
    "    r2    = r2_score(y, model.predict(Xk))\n",
    "    adj_r2 = 1 - (1 - r2) * (n - 1) / (n - p - 1)\n",
    "    lin_results.append({\n",
    "        \"K\":        K,\n",
    "        \"Features\": list(topK),\n",
    "        \"R2\":       r2,\n",
    "        \"Adjusted R2\":      adj_r2\n",
    "    })"
   ]
  },
  {
   "cell_type": "code",
   "execution_count": 79,
   "id": "fa0739b1",
   "metadata": {},
   "outputs": [
    {
     "name": "stdout",
     "output_type": "stream",
     "text": [
      "     K                                           Features        R2  \\\n",
      "13  14  [Temperature(째C), Seasons_Winter, Hour, Dew po...  0.556177   \n",
      "12  13  [Temperature(째C), Seasons_Winter, Hour, Dew po...  0.550138   \n",
      "11  12  [Temperature(째C), Seasons_Winter, Hour, Dew po...  0.548785   \n",
      "10  11  [Temperature(째C), Seasons_Winter, Hour, Dew po...  0.548594   \n",
      "9   10  [Temperature(째C), Seasons_Winter, Hour, Dew po...  0.539226   \n",
      "8    9  [Temperature(째C), Seasons_Winter, Hour, Dew po...  0.537525   \n",
      "7    8  [Temperature(째C), Seasons_Winter, Hour, Dew po...  0.484895   \n",
      "6    7  [Temperature(째C), Seasons_Winter, Hour, Dew po...  0.463053   \n",
      "5    6  [Temperature(째C), Seasons_Winter, Hour, Dew po...  0.459688   \n",
      "4    5  [Temperature(째C), Seasons_Winter, Hour, Dew po...  0.457697   \n",
      "3    4  [Temperature(째C), Seasons_Winter, Hour, Dew po...  0.457531   \n",
      "2    3            [Temperature(째C), Seasons_Winter, Hour]  0.427190   \n",
      "1    2                  [Temperature(째C), Seasons_Winter]  0.296948   \n",
      "0    1                                  [Temperature(째C)]  0.296330   \n",
      "\n",
      "    Adjusted R2  \n",
      "13     0.555402  \n",
      "12     0.549353  \n",
      "11     0.547998  \n",
      "10     0.547806  \n",
      "9      0.538422  \n",
      "8      0.536718  \n",
      "7      0.483997  \n",
      "6      0.462116  \n",
      "5      0.458745  \n",
      "4      0.456751  \n",
      "3      0.456585  \n",
      "2      0.426191  \n",
      "1      0.295722  \n",
      "0      0.295103  \n"
     ]
    }
   ],
   "source": [
    "lin_df = pd.DataFrame(lin_results).sort_values(\"R2\", ascending=False)\n",
    "print(lin_df)"
   ]
  },
  {
   "cell_type": "code",
   "execution_count": 80,
   "id": "ac3ffc81",
   "metadata": {},
   "outputs": [
    {
     "name": "stdout",
     "output_type": "stream",
     "text": [
      "     K                                           Features        R2  \\\n",
      "13  14  [Temperature(째C), Seasons_Winter, Hour, Dew po...  0.556177   \n",
      "12  13  [Temperature(째C), Seasons_Winter, Hour, Dew po...  0.550138   \n",
      "11  12  [Temperature(째C), Seasons_Winter, Hour, Dew po...  0.548785   \n",
      "10  11  [Temperature(째C), Seasons_Winter, Hour, Dew po...  0.548594   \n",
      "9   10  [Temperature(째C), Seasons_Winter, Hour, Dew po...  0.539226   \n",
      "8    9  [Temperature(째C), Seasons_Winter, Hour, Dew po...  0.537525   \n",
      "7    8  [Temperature(째C), Seasons_Winter, Hour, Dew po...  0.484895   \n",
      "6    7  [Temperature(째C), Seasons_Winter, Hour, Dew po...  0.463053   \n",
      "5    6  [Temperature(째C), Seasons_Winter, Hour, Dew po...  0.459688   \n",
      "4    5  [Temperature(째C), Seasons_Winter, Hour, Dew po...  0.457697   \n",
      "3    4  [Temperature(째C), Seasons_Winter, Hour, Dew po...  0.457531   \n",
      "2    3            [Temperature(째C), Seasons_Winter, Hour]  0.427190   \n",
      "1    2                  [Temperature(째C), Seasons_Winter]  0.296948   \n",
      "0    1                                  [Temperature(째C)]  0.296330   \n",
      "\n",
      "    Adjusted R2  \n",
      "13     0.555402  \n",
      "12     0.549353  \n",
      "11     0.547998  \n",
      "10     0.547806  \n",
      "9      0.538422  \n",
      "8      0.536718  \n",
      "7      0.483997  \n",
      "6      0.462116  \n",
      "5      0.458745  \n",
      "4      0.456751  \n",
      "3      0.456585  \n",
      "2      0.426191  \n",
      "1      0.295722  \n",
      "0      0.295103  \n"
     ]
    }
   ],
   "source": [
    "lin_df2 = pd.DataFrame(lin_results).sort_values(\"Adjusted R2\", ascending=False)\n",
    "print(lin_df2)"
   ]
  },
  {
   "cell_type": "markdown",
   "id": "1ec14500",
   "metadata": {},
   "source": [
    "- 다 넣은게 가장 좋음"
   ]
  },
  {
   "cell_type": "markdown",
   "id": "b685d5c8",
   "metadata": {},
   "source": [
    "#### polynominal"
   ]
  },
  {
   "cell_type": "code",
   "execution_count": 81,
   "id": "adb88ad9",
   "metadata": {},
   "outputs": [],
   "source": [
    "poly = PolynomialFeatures(degree=2, include_bias=False)\n",
    "X_poly = poly.fit_transform(X)\n",
    "poly_features = poly.get_feature_names_out(X.columns)\n",
    "X_poly_df = pd.DataFrame(X_poly, columns=poly_features)"
   ]
  },
  {
   "cell_type": "code",
   "execution_count": 82,
   "id": "2f241586",
   "metadata": {},
   "outputs": [],
   "source": [
    "selector_poly = SelectKBest(score_func=f_regression, k=\"all\")\n",
    "selector_poly.fit(X_poly_df, y)\n",
    "f_scores_poly = pd.Series(selector_poly.scores_, index=poly_features) \\\n",
    "                   .sort_values(ascending=False)"
   ]
  },
  {
   "cell_type": "code",
   "execution_count": 83,
   "id": "7d0483b1",
   "metadata": {},
   "outputs": [],
   "source": [
    "poly_results = []\n",
    "for K in range(1, len(poly_features) + 1):\n",
    "    topK = f_scores_poly.index[:K]\n",
    "    Xpk  = X_poly_df[topK]\n",
    "    model = LinearRegression().fit(Xpk, y)\n",
    "    r2    = r2_score(y, model.predict(Xpk))\n",
    "    adj_r2 = 1 - (1 - r2) * (n - 1) / (n - p - 1)\n",
    "    poly_results.append({\n",
    "        \"K\":        K,\n",
    "        \"Features\": list(topK),\n",
    "        \"R2\":       r2,\n",
    "        \"Adjusted R2\":      adj_r2\n",
    "    })"
   ]
  },
  {
   "cell_type": "code",
   "execution_count": 84,
   "id": "5cdc74f5",
   "metadata": {},
   "outputs": [
    {
     "name": "stdout",
     "output_type": "stream",
     "text": [
      "       K                                           Features        R2  \\\n",
      "118  119  [Hour Temperature(째C), Temperature(째C) Functio...  0.715074   \n",
      "117  118  [Hour Temperature(째C), Temperature(째C) Functio...  0.715074   \n",
      "116  117  [Hour Temperature(째C), Temperature(째C) Functio...  0.715074   \n",
      "115  116  [Hour Temperature(째C), Temperature(째C) Functio...  0.715074   \n",
      "114  115  [Hour Temperature(째C), Temperature(째C) Functio...  0.715074   \n",
      "..   ...                                                ...       ...   \n",
      "4      5  [Hour Temperature(째C), Temperature(째C) Functio...  0.525345   \n",
      "3      4  [Hour Temperature(째C), Temperature(째C) Functio...  0.524266   \n",
      "2      3  [Hour Temperature(째C), Temperature(째C) Functio...  0.472557   \n",
      "1      2  [Hour Temperature(째C), Temperature(째C) Functio...  0.472106   \n",
      "0      1                             [Hour Temperature(째C)]  0.464044   \n",
      "\n",
      "     Adjusted R2  \n",
      "118     0.714577  \n",
      "117     0.714577  \n",
      "116     0.714577  \n",
      "115     0.714577  \n",
      "114     0.714577  \n",
      "..           ...  \n",
      "4       0.524517  \n",
      "3       0.523436  \n",
      "2       0.471636  \n",
      "1       0.471185  \n",
      "0       0.463109  \n",
      "\n",
      "[119 rows x 4 columns]\n"
     ]
    }
   ],
   "source": [
    "poly_df  = pd.DataFrame(poly_results).sort_values(\"R2\", ascending=False)\n",
    "print(poly_df)"
   ]
  },
  {
   "cell_type": "markdown",
   "id": "bf98370f",
   "metadata": {},
   "source": [
    "- 다 넣은게 가장 좋음"
   ]
  },
  {
   "cell_type": "markdown",
   "id": "3c85fca6",
   "metadata": {},
   "source": [
    "#### 여러 종류끼리 비교"
   ]
  },
  {
   "cell_type": "code",
   "execution_count": 85,
   "id": "732a6fd9",
   "metadata": {},
   "outputs": [],
   "source": [
    "models = {\n",
    "    \"LinearRegression\": LinearRegression(),\n",
    "    \"Ridge\": Ridge(alpha=1.0, random_state=42),\n",
    "    \"Lasso\": Lasso(alpha=0.1, random_state=42),\n",
    "    \"ElasticNet\": ElasticNet(alpha=0.1, l1_ratio=0.5, random_state=42),\n",
    "}"
   ]
  },
  {
   "cell_type": "code",
   "execution_count": 86,
   "id": "c763eeea",
   "metadata": {},
   "outputs": [],
   "source": [
    "results = []\n",
    "for name, mdl in models.items():\n",
    "    mdl.fit(X, y)\n",
    "    preds = mdl.predict(X)\n",
    "    results.append({\n",
    "        \"Model\": name,\n",
    "        \"Validation MSE\": mean_squared_error(y, preds),\n",
    "        \"Validation R2\":   r2_score(y, preds)\n",
    "    })"
   ]
  },
  {
   "cell_type": "code",
   "execution_count": 87,
   "id": "fb159dd2",
   "metadata": {},
   "outputs": [
    {
     "name": "stdout",
     "output_type": "stream",
     "text": [
      "              Model  Validation MSE  Validation R2\n",
      "0  LinearRegression   191739.071693       0.556177\n",
      "1             Ridge   191739.902296       0.556175\n",
      "2             Lasso   191740.952979       0.556172\n",
      "3        ElasticNet   205390.618963       0.524577\n"
     ]
    }
   ],
   "source": [
    "results_df = pd.DataFrame(results).sort_values(\"Validation R2\", ascending=False)\n",
    "print(results_df)"
   ]
  },
  {
   "cell_type": "markdown",
   "id": "f36be03f",
   "metadata": {},
   "source": [
    "- 선형회귀가 가장 R^2가 높음"
   ]
  },
  {
   "cell_type": "markdown",
   "id": "4c21ca41",
   "metadata": {},
   "source": [
    "# test"
   ]
  },
  {
   "cell_type": "code",
   "execution_count": 88,
   "id": "2bf089c7",
   "metadata": {},
   "outputs": [],
   "source": [
    "test_df =  pd.read_csv('C:/Users/eunseok/Desktop/vscode/data/test.csv')"
   ]
  },
  {
   "cell_type": "markdown",
   "id": "90374707",
   "metadata": {},
   "source": [
    "## 1. eda"
   ]
  },
  {
   "cell_type": "code",
   "execution_count": 89,
   "id": "fa2c182e",
   "metadata": {},
   "outputs": [
    {
     "name": "stdout",
     "output_type": "stream",
     "text": [
      "         Date  Hour  Temperature(째C)  Humidity(%)  Wind speed (m/s)  \\\n",
      "0  01/11/2018     0              5.7           62               2.3   \n",
      "1  01/11/2018     1              5.1           65               1.6   \n",
      "2  01/11/2018     2              4.4           64               NaN   \n",
      "3  01/11/2018     3              4.2           65               0.7   \n",
      "4  01/11/2018     4              3.6           70               0.8   \n",
      "\n",
      "   Visibility (10m)  Dew point temperature(째C)  Solar Radiation (MJ/m2)  \\\n",
      "0              1909                       -1.0                      0.0   \n",
      "1              1932                       -0.9                      0.0   \n",
      "2              2000                       -1.8                      0.0   \n",
      "3              1962                       -1.8                      0.0   \n",
      "4              1934                       -1.3                      0.0   \n",
      "\n",
      "   Rainfall(mm)  Snowfall (cm) Seasons     Holiday Functioning Day  \n",
      "0           0.0            0.0  Autumn  No Holiday             Yes  \n",
      "1           0.0            0.0  Autumn  No Holiday             Yes  \n",
      "2           0.0            0.0  Autumn  No Holiday             Yes  \n",
      "3           0.0            0.0  Autumn  No Holiday             Yes  \n",
      "4           0.0            0.0  Autumn  No Holiday             Yes  \n"
     ]
    }
   ],
   "source": [
    "print(test_df.head())"
   ]
  },
  {
   "cell_type": "code",
   "execution_count": 90,
   "id": "33db8043",
   "metadata": {},
   "outputs": [
    {
     "name": "stdout",
     "output_type": "stream",
     "text": [
      "<class 'pandas.core.frame.DataFrame'>\n",
      "RangeIndex: 720 entries, 0 to 719\n",
      "Data columns (total 13 columns):\n",
      " #   Column                     Non-Null Count  Dtype  \n",
      "---  ------                     --------------  -----  \n",
      " 0   Date                       720 non-null    object \n",
      " 1   Hour                       720 non-null    int64  \n",
      " 2   Temperature(째C)            644 non-null    float64\n",
      " 3   Humidity(%)                720 non-null    int64  \n",
      " 4   Wind speed (m/s)           646 non-null    float64\n",
      " 5   Visibility (10m)           720 non-null    int64  \n",
      " 6   Dew point temperature(째C)  720 non-null    float64\n",
      " 7   Solar Radiation (MJ/m2)    720 non-null    float64\n",
      " 8   Rainfall(mm)               720 non-null    float64\n",
      " 9   Snowfall (cm)              720 non-null    float64\n",
      " 10  Seasons                    646 non-null    object \n",
      " 11  Holiday                    720 non-null    object \n",
      " 12  Functioning Day            720 non-null    object \n",
      "dtypes: float64(6), int64(3), object(4)\n",
      "memory usage: 73.3+ KB\n",
      "None\n"
     ]
    }
   ],
   "source": [
    "print(test_df.info())"
   ]
  },
  {
   "cell_type": "code",
   "execution_count": 91,
   "id": "689f58f1",
   "metadata": {},
   "outputs": [
    {
     "name": "stdout",
     "output_type": "stream",
     "text": [
      "              Date        Hour  Temperature(째C)  Humidity(%)  \\\n",
      "count          720  720.000000       644.000000   720.000000   \n",
      "unique          30         NaN              NaN          NaN   \n",
      "top     01/11/2018         NaN              NaN          NaN   \n",
      "freq            24         NaN              NaN          NaN   \n",
      "mean           NaN   11.500000         7.717857    57.726389   \n",
      "std            NaN    6.926999         4.561766    20.613305   \n",
      "min            NaN    0.000000        -3.000000    13.000000   \n",
      "25%            NaN    5.750000         4.200000    41.000000   \n",
      "50%            NaN   11.500000         7.400000    57.000000   \n",
      "75%            NaN   17.250000        11.100000    75.000000   \n",
      "max            NaN   23.000000        19.300000    97.000000   \n",
      "\n",
      "        Wind speed (m/s)  Visibility (10m)  Dew point temperature(째C)  \\\n",
      "count         646.000000        720.000000                 720.000000   \n",
      "unique               NaN               NaN                        NaN   \n",
      "top                  NaN               NaN                        NaN   \n",
      "freq                 NaN               NaN                        NaN   \n",
      "mean            1.396285       1187.305556                  -0.933611   \n",
      "std             0.853039        603.911910                   6.701915   \n",
      "min             0.000000         33.000000                 -19.000000   \n",
      "25%             0.800000        627.250000                  -5.100000   \n",
      "50%             1.200000       1218.500000                   0.200000   \n",
      "75%             1.900000       1788.250000                   3.525000   \n",
      "max             5.300000       2000.000000                  13.400000   \n",
      "\n",
      "        Solar Radiation (MJ/m2)  Rainfall(mm)  Snowfall (cm) Seasons  \\\n",
      "count                720.000000    720.000000     720.000000     646   \n",
      "unique                      NaN           NaN            NaN       1   \n",
      "top                         NaN           NaN            NaN  Autumn   \n",
      "freq                        NaN           NaN            NaN     646   \n",
      "mean                   0.368542      0.109861       0.170833     NaN   \n",
      "std                    0.608023      1.141212       0.845348     NaN   \n",
      "min                    0.000000      0.000000       0.000000     NaN   \n",
      "25%                    0.000000      0.000000       0.000000     NaN   \n",
      "50%                    0.000000      0.000000       0.000000     NaN   \n",
      "75%                    0.525000      0.000000       0.000000     NaN   \n",
      "max                    2.220000     18.000000       8.800000     NaN   \n",
      "\n",
      "           Holiday Functioning Day  \n",
      "count          720             720  \n",
      "unique           1               2  \n",
      "top     No Holiday             Yes  \n",
      "freq           720             648  \n",
      "mean           NaN             NaN  \n",
      "std            NaN             NaN  \n",
      "min            NaN             NaN  \n",
      "25%            NaN             NaN  \n",
      "50%            NaN             NaN  \n",
      "75%            NaN             NaN  \n",
      "max            NaN             NaN  \n"
     ]
    }
   ],
   "source": [
    "print(test_df.describe(include=\"all\"))"
   ]
  },
  {
   "cell_type": "markdown",
   "id": "a5d42e1c",
   "metadata": {},
   "source": [
    "## 2. 결측치 확인"
   ]
  },
  {
   "cell_type": "code",
   "execution_count": 92,
   "id": "66f1c3eb",
   "metadata": {},
   "outputs": [
    {
     "name": "stdout",
     "output_type": "stream",
     "text": [
      "Date                          0\n",
      "Hour                          0\n",
      "Temperature(째C)              76\n",
      "Humidity(%)                   0\n",
      "Wind speed (m/s)             74\n",
      "Visibility (10m)              0\n",
      "Dew point temperature(째C)     0\n",
      "Solar Radiation (MJ/m2)       0\n",
      "Rainfall(mm)                  0\n",
      "Snowfall (cm)                 0\n",
      "Seasons                      74\n",
      "Holiday                       0\n",
      "Functioning Day               0\n",
      "dtype: int64\n"
     ]
    }
   ],
   "source": [
    "print(test_df.isna().sum())"
   ]
  },
  {
   "cell_type": "code",
   "execution_count": 93,
   "id": "d37fc8ff",
   "metadata": {},
   "outputs": [
    {
     "name": "stdout",
     "output_type": "stream",
     "text": [
      "0    516\n",
      "1    185\n",
      "2     18\n",
      "3      1\n",
      "Name: count, dtype: int64\n"
     ]
    }
   ],
   "source": [
    "print(test_df.isna().sum(axis=1).value_counts())"
   ]
  },
  {
   "cell_type": "markdown",
   "id": "7c37b97e",
   "metadata": {},
   "source": [
    "- 결측치가 있는걸 확인"
   ]
  },
  {
   "cell_type": "code",
   "execution_count": 94,
   "id": "5935f2a6",
   "metadata": {},
   "outputs": [],
   "source": [
    "global_wind_mean2 = test_df[\"Wind speed (m/s)\"].mean(skipna=True)\n",
    "test_df[\"Wind speed (m/s)\"].fillna(global_wind_mean2, inplace=True)"
   ]
  },
  {
   "cell_type": "code",
   "execution_count": 95,
   "id": "09e59125",
   "metadata": {},
   "outputs": [],
   "source": [
    "test_df[\"Date\"] = pd.to_datetime(test_df[\"Date\"], format=\"%d/%m/%Y\")\n",
    "test_df[\"Seasons\"] = test_df[\"Date\"].dt.month.apply(month_to_season)"
   ]
  },
  {
   "cell_type": "markdown",
   "id": "618d287a",
   "metadata": {},
   "source": [
    "- 계절하나니까 그냥 전체 온도평균으로 대체"
   ]
  },
  {
   "cell_type": "code",
   "execution_count": 96,
   "id": "4798cfe7",
   "metadata": {},
   "outputs": [],
   "source": [
    "global_temp = test_df[\"Temperature(째C)\"].mean(skipna=True)\n",
    "test_df[\"Temperature(째C)\"].fillna(global_temp, inplace=True)"
   ]
  },
  {
   "cell_type": "code",
   "execution_count": 97,
   "id": "d7888d24",
   "metadata": {},
   "outputs": [
    {
     "name": "stdout",
     "output_type": "stream",
     "text": [
      "Date                         0\n",
      "Hour                         0\n",
      "Temperature(째C)              0\n",
      "Humidity(%)                  0\n",
      "Wind speed (m/s)             0\n",
      "Visibility (10m)             0\n",
      "Dew point temperature(째C)    0\n",
      "Solar Radiation (MJ/m2)      0\n",
      "Rainfall(mm)                 0\n",
      "Snowfall (cm)                0\n",
      "Seasons                      0\n",
      "Holiday                      0\n",
      "Functioning Day              0\n",
      "dtype: int64\n"
     ]
    }
   ],
   "source": [
    "print(test_df.isna().sum())"
   ]
  },
  {
   "cell_type": "markdown",
   "id": "ca6ea1b4",
   "metadata": {},
   "source": [
    "## 4. 회귀모델"
   ]
  },
  {
   "cell_type": "code",
   "execution_count": 98,
   "id": "57746856",
   "metadata": {},
   "outputs": [
    {
     "data": {
      "text/html": [
       "<style>#sk-container-id-2 {color: black;background-color: white;}#sk-container-id-2 pre{padding: 0;}#sk-container-id-2 div.sk-toggleable {background-color: white;}#sk-container-id-2 label.sk-toggleable__label {cursor: pointer;display: block;width: 100%;margin-bottom: 0;padding: 0.3em;box-sizing: border-box;text-align: center;}#sk-container-id-2 label.sk-toggleable__label-arrow:before {content: \"▸\";float: left;margin-right: 0.25em;color: #696969;}#sk-container-id-2 label.sk-toggleable__label-arrow:hover:before {color: black;}#sk-container-id-2 div.sk-estimator:hover label.sk-toggleable__label-arrow:before {color: black;}#sk-container-id-2 div.sk-toggleable__content {max-height: 0;max-width: 0;overflow: hidden;text-align: left;background-color: #f0f8ff;}#sk-container-id-2 div.sk-toggleable__content pre {margin: 0.2em;color: black;border-radius: 0.25em;background-color: #f0f8ff;}#sk-container-id-2 input.sk-toggleable__control:checked~div.sk-toggleable__content {max-height: 200px;max-width: 100%;overflow: auto;}#sk-container-id-2 input.sk-toggleable__control:checked~label.sk-toggleable__label-arrow:before {content: \"▾\";}#sk-container-id-2 div.sk-estimator input.sk-toggleable__control:checked~label.sk-toggleable__label {background-color: #d4ebff;}#sk-container-id-2 div.sk-label input.sk-toggleable__control:checked~label.sk-toggleable__label {background-color: #d4ebff;}#sk-container-id-2 input.sk-hidden--visually {border: 0;clip: rect(1px 1px 1px 1px);clip: rect(1px, 1px, 1px, 1px);height: 1px;margin: -1px;overflow: hidden;padding: 0;position: absolute;width: 1px;}#sk-container-id-2 div.sk-estimator {font-family: monospace;background-color: #f0f8ff;border: 1px dotted black;border-radius: 0.25em;box-sizing: border-box;margin-bottom: 0.5em;}#sk-container-id-2 div.sk-estimator:hover {background-color: #d4ebff;}#sk-container-id-2 div.sk-parallel-item::after {content: \"\";width: 100%;border-bottom: 1px solid gray;flex-grow: 1;}#sk-container-id-2 div.sk-label:hover label.sk-toggleable__label {background-color: #d4ebff;}#sk-container-id-2 div.sk-serial::before {content: \"\";position: absolute;border-left: 1px solid gray;box-sizing: border-box;top: 0;bottom: 0;left: 50%;z-index: 0;}#sk-container-id-2 div.sk-serial {display: flex;flex-direction: column;align-items: center;background-color: white;padding-right: 0.2em;padding-left: 0.2em;position: relative;}#sk-container-id-2 div.sk-item {position: relative;z-index: 1;}#sk-container-id-2 div.sk-parallel {display: flex;align-items: stretch;justify-content: center;background-color: white;position: relative;}#sk-container-id-2 div.sk-item::before, #sk-container-id-2 div.sk-parallel-item::before {content: \"\";position: absolute;border-left: 1px solid gray;box-sizing: border-box;top: 0;bottom: 0;left: 50%;z-index: -1;}#sk-container-id-2 div.sk-parallel-item {display: flex;flex-direction: column;z-index: 1;position: relative;background-color: white;}#sk-container-id-2 div.sk-parallel-item:first-child::after {align-self: flex-end;width: 50%;}#sk-container-id-2 div.sk-parallel-item:last-child::after {align-self: flex-start;width: 50%;}#sk-container-id-2 div.sk-parallel-item:only-child::after {width: 0;}#sk-container-id-2 div.sk-dashed-wrapped {border: 1px dashed gray;margin: 0 0.4em 0.5em 0.4em;box-sizing: border-box;padding-bottom: 0.4em;background-color: white;}#sk-container-id-2 div.sk-label label {font-family: monospace;font-weight: bold;display: inline-block;line-height: 1.2em;}#sk-container-id-2 div.sk-label-container {text-align: center;}#sk-container-id-2 div.sk-container {/* jupyter's `normalize.less` sets `[hidden] { display: none; }` but bootstrap.min.css set `[hidden] { display: none !important; }` so we also need the `!important` here to be able to override the default hidden behavior on the sphinx rendered scikit-learn.org. See: https://github.com/scikit-learn/scikit-learn/issues/21755 */display: inline-block !important;position: relative;}#sk-container-id-2 div.sk-text-repr-fallback {display: none;}</style><div id=\"sk-container-id-2\" class=\"sk-top-container\"><div class=\"sk-text-repr-fallback\"><pre>LinearRegression()</pre><b>In a Jupyter environment, please rerun this cell to show the HTML representation or trust the notebook. <br />On GitHub, the HTML representation is unable to render, please try loading this page with nbviewer.org.</b></div><div class=\"sk-container\" hidden><div class=\"sk-item\"><div class=\"sk-estimator sk-toggleable\"><input class=\"sk-toggleable__control sk-hidden--visually\" id=\"sk-estimator-id-2\" type=\"checkbox\" checked><label for=\"sk-estimator-id-2\" class=\"sk-toggleable__label sk-toggleable__label-arrow\">LinearRegression</label><div class=\"sk-toggleable__content\"><pre>LinearRegression()</pre></div></div></div></div></div>"
      ],
      "text/plain": [
       "LinearRegression()"
      ]
     },
     "execution_count": 98,
     "metadata": {},
     "output_type": "execute_result"
    }
   ],
   "source": [
    "final_model = LinearRegression()\n",
    "final_model.fit(X, y)"
   ]
  },
  {
   "cell_type": "code",
   "execution_count": 99,
   "id": "865a2b7e",
   "metadata": {},
   "outputs": [],
   "source": [
    "test_dummies = pd.get_dummies(\n",
    "    test_df,\n",
    "    columns=[\"Seasons\",\"Holiday\",\"Functioning Day\"],\n",
    "    drop_first=False\n",
    ")"
   ]
  },
  {
   "cell_type": "code",
   "execution_count": 100,
   "id": "988b1046",
   "metadata": {},
   "outputs": [],
   "source": [
    "feature_cols = df.columns"
   ]
  },
  {
   "cell_type": "code",
   "execution_count": 101,
   "id": "5ffd7b30",
   "metadata": {},
   "outputs": [],
   "source": [
    "X_test_final = test_dummies.reindex(columns=X.columns, fill_value=0)"
   ]
  },
  {
   "cell_type": "code",
   "execution_count": 102,
   "id": "0f1a72c9",
   "metadata": {},
   "outputs": [],
   "source": [
    "preds = final_model.predict(X_test_final)"
   ]
  },
  {
   "cell_type": "markdown",
   "id": "2b5cf866",
   "metadata": {},
   "source": [
    "- 예측값을 test에 넣기"
   ]
  },
  {
   "cell_type": "code",
   "execution_count": 103,
   "id": "436e1824",
   "metadata": {},
   "outputs": [
    {
     "name": "stdout",
     "output_type": "stream",
     "text": [
      "   Rented Bike Count\n",
      "0         473.095140\n",
      "1         448.243521\n",
      "2         465.348063\n",
      "3         468.804114\n",
      "4         437.244165\n"
     ]
    }
   ],
   "source": [
    "test_df['Rented Bike Count'] = preds\n",
    "print(test_df[['Rented Bike Count']].head())"
   ]
  }
 ],
 "metadata": {
  "kernelspec": {
   "display_name": "base",
   "language": "python",
   "name": "python3"
  },
  "language_info": {
   "codemirror_mode": {
    "name": "ipython",
    "version": 3
   },
   "file_extension": ".py",
   "mimetype": "text/x-python",
   "name": "python",
   "nbconvert_exporter": "python",
   "pygments_lexer": "ipython3",
   "version": "3.11.7"
  }
 },
 "nbformat": 4,
 "nbformat_minor": 5
}
